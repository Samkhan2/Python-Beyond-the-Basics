{
 "cells": [
  {
   "cell_type": "code",
   "execution_count": 6,
   "id": "aff9b376",
   "metadata": {},
   "outputs": [
    {
     "name": "stdout",
     "output_type": "stream",
     "text": [
      "Addition \t: 5\n",
      "Using Lambda \t: 7\n"
     ]
    }
   ],
   "source": [
    "#Lambda Function\n",
    "def add(x,y):\n",
    "    return x+y\n",
    "\n",
    "print(\"Addition \\t:\", add(2,3))\n",
    "#Now using lambda function\n",
    "addition = lambda x,y: x+y\n",
    "print(\"Using Lambda \\t:\",addition(3,4))"
   ]
  },
  {
   "cell_type": "code",
   "execution_count": 10,
   "id": "0c815418",
   "metadata": {},
   "outputs": [
    {
     "name": "stdout",
     "output_type": "stream",
     "text": [
      "Subtract 1 : 1\n",
      "Subtract 2 : 320\n",
      "Subtract 3 : 77\n"
     ]
    }
   ],
   "source": [
    "#Lambda function with if else conditions\n",
    "subtraction = lambda a,b: a-b if a>b else b-a\n",
    "print(\"Subtract 1 :\",subtraction(5,4))\n",
    "print(\"Subtract 2 :\",subtraction(123,443))\n",
    "print(\"Subtract 3 :\",subtraction(98,21))\n"
   ]
  },
  {
   "cell_type": "code",
   "execution_count": 16,
   "id": "46f10a36",
   "metadata": {},
   "outputs": [
    {
     "name": "stdout",
     "output_type": "stream",
     "text": [
      "Squares : [25, 100, 400, 900, 1600, 2500]\n"
     ]
    }
   ],
   "source": [
    "#Map function with lambda\n",
    "numbers = [5,10,20,30,40,50]\n",
    "#Map ftn takes a list as an argument \n",
    "squares = list(map(lambda x: x**2, numbers))\n",
    "print(\"Squares :\",squares)"
   ]
  },
  {
   "cell_type": "code",
   "execution_count": 20,
   "id": "899998fc",
   "metadata": {},
   "outputs": [
    {
     "name": "stdout",
     "output_type": "stream",
     "text": [
      "Odd Numbers \t: [1, 3, 5, 7, 9]\n",
      "Even Numbers \t: [2, 4, 6, 8, 10]\n"
     ]
    }
   ],
   "source": [
    "# Filter function with lambda\n",
    "numbers = [1,2,3,4,5,6,7,8,9,10]\n",
    "#filter function to filter odd numbers from the list\n",
    "odd_numbers = list(filter(lambda x: x%2 != 0, numbers))\n",
    "\n",
    "#filter function to filter even numbers from the list\n",
    "even_numbers = list(filter(lambda y: y%2 == 0, numbers))\n",
    "\n",
    "print(\"Odd Numbers \\t:\", odd_numbers)\n",
    "print(\"Even Numbers \\t:\",even_numbers)\n"
   ]
  },
  {
   "cell_type": "code",
   "execution_count": 22,
   "id": "509f71f2",
   "metadata": {},
   "outputs": [
    {
     "name": "stdout",
     "output_type": "stream",
     "text": [
      "Overall Sum \t: 450\n",
      "Difference \t: 50\n"
     ]
    }
   ],
   "source": [
    "#Reduce function with lambda\n",
    "#first import reduce function\n",
    "from functools import reduce\n",
    "\n",
    "numbers = [10,20,30,40,50,60,70,80,90]\n",
    "#finding overall sum \n",
    "sum = reduce((lambda x, y: x+y), numbers)\n",
    "#Finding overall difference\n",
    "difference = reduce((lambda x,y: x-y if x>y else y-x), numbers)\n",
    "\n",
    "print(\"Overall Sum \\t:\",sum)\n",
    "print(\"Difference \\t:\", difference)"
   ]
  },
  {
   "cell_type": "code",
   "execution_count": 27,
   "id": "0da93398",
   "metadata": {},
   "outputs": [
    {
     "name": "stdout",
     "output_type": "stream",
     "text": [
      "Function A : 6\n",
      "Function B : 9\n",
      "Function C : I was able to print Stars!\n",
      "Cubes : [125, 343, 729, 27, 512, 8]\n",
      "Even : [8, 2]\n",
      "Odd : [5, 7, 9, 3]\n",
      "SUM : 2\n"
     ]
    }
   ],
   "source": [
    "# ASSIGNMENT FOR LAMBDA FUNCTIONS\n",
    "# ## Rewrite the following functions as lambda functions ##\n",
    "def functionA(x,y):\n",
    "    return x * y\n",
    "#Code I wrote for Function A\n",
    "ftnA = lambda x, y: x*y\n",
    "print(\"Function A :\",ftnA(2,3))\n",
    "\n",
    "def functionB(x,y):\n",
    "    if x%2:\n",
    "        return x**y\n",
    "    else:\n",
    "        return y**x\n",
    "    \n",
    "#Code I wrote for Function B\n",
    "ftnB = lambda x, y: x**y if x%2 else y**x\n",
    "print(\"Function B :\",ftnB(2,3))\n",
    "\n",
    "def functionC(str_x):\n",
    "    print(f'I was able to print {str_x}!')\n",
    " \n",
    " #Code I wrote for Function C\n",
    "ftnC =  lambda a : f'I was able to print {a}!'\n",
    "print(\"Function C :\", ftnC('Stars'))\n",
    "\n",
    "### Take the input as input_list.\n",
    "# Write lambda functions that would produce:\n",
    "# Part [i]: A list of squares of the cubes of each of the items\n",
    "# Part [ii]: A dictionary of key value pairs, indicating whether an item is even or not.\n",
    "# Part [iii]: A tuple of only the odd numbers in the input list.\n",
    "# Part [iv]: The sum of all numbers less than equal to 5.\n",
    "\n",
    "input_list = [5, 7, 9, 3, 8, 2]\n",
    "\n",
    "# Part [i]:\n",
    "# Your code\n",
    "cubes = list(map(lambda x:x**3, input_list))\n",
    "print(\"Cubes :\", cubes)\n",
    "\n",
    "# Part [ii]:\n",
    "# Your code\n",
    "even = list(filter(lambda a: a%2 == 0, input_list))\n",
    "print(\"Even :\", even)\n",
    "\n",
    "# Part [iii]:\n",
    "# Your code\n",
    "odd = list(filter(lambda b: b%2 != 0, input_list))\n",
    "print(\"Odd :\", odd)\n",
    "# Part [iv]:\n",
    "# Your code\n",
    "sum_of_all = reduce((lambda i, j: i+j if i+j<=5 else 0), input_list)\n",
    "print(\"SUM :\", sum_of_all)"
   ]
  },
  {
   "cell_type": "code",
   "execution_count": 34,
   "id": "1fc38a3c",
   "metadata": {},
   "outputs": [
    {
     "name": "stdout",
     "output_type": "stream",
     "text": [
      "[(0, 0), (1, 1)]\n"
     ]
    }
   ],
   "source": [
    "z = map(lambda x,y : (x,y), range(3), range(2))\n",
    "z= list(z)\n",
    "print(z)\n"
   ]
  },
  {
   "cell_type": "code",
   "execution_count": null,
   "id": "ae6f4983",
   "metadata": {},
   "outputs": [],
   "source": []
  }
 ],
 "metadata": {
  "kernelspec": {
   "display_name": "Python 3 (ipykernel)",
   "language": "python",
   "name": "python3"
  },
  "language_info": {
   "codemirror_mode": {
    "name": "ipython",
    "version": 3
   },
   "file_extension": ".py",
   "mimetype": "text/x-python",
   "name": "python",
   "nbconvert_exporter": "python",
   "pygments_lexer": "ipython3",
   "version": "3.10.6"
  }
 },
 "nbformat": 4,
 "nbformat_minor": 5
}
