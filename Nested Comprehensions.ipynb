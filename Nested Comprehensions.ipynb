{
 "cells": [
  {
   "cell_type": "code",
   "execution_count": 14,
   "id": "239e7a86",
   "metadata": {},
   "outputs": [
    {
     "name": "stdout",
     "output_type": "stream",
     "text": [
      "[[2, 4, 6, 8, 10], [2, 4, 6, 8, 10], [2, 4, 6, 8, 10], [2, 4, 6, 8, 10], [2, 4, 6, 8, 10]]\n"
     ]
    }
   ],
   "source": [
    "#Nested Comprehensions\n",
    "\n",
    "num_list = [1,2,3,4,5,6,7,8,9,10]\n",
    "nested_comprehension = [[i for i in num_list if (i%2 == 0)] for j in num_list if (j%2 != 0)]\n",
    "print(nested_comprehension)"
   ]
  },
  {
   "cell_type": "code",
   "execution_count": 18,
   "id": "b8019383",
   "metadata": {},
   "outputs": [
    {
     "name": "stdout",
     "output_type": "stream",
     "text": [
      "[[1, 1, 3, 5], [2, 4, 6, 7]]\n"
     ]
    }
   ],
   "source": [
    "#Quiz part 1\n",
    "matrix = [[1,2],[1,4],[3,6],[5,7]]\n",
    "new_matrix = [[row[i] for row in matrix] for i in range(2)]\n",
    "print(new_matrix)"
   ]
  },
  {
   "cell_type": "code",
   "execution_count": 19,
   "id": "987bcf64",
   "metadata": {},
   "outputs": [
    {
     "name": "stdout",
     "output_type": "stream",
     "text": [
      "[0, 10, 20, 30, 40]\n"
     ]
    }
   ],
   "source": [
    "#Quiz part 2\n",
    "numbers = [x for x in range(50) if (x%2 == 0) if (x%5 == 0)]\n",
    "print(numbers)"
   ]
  },
  {
   "cell_type": "code",
   "execution_count": 22,
   "id": "4f4cc168",
   "metadata": {},
   "outputs": [
    {
     "name": "stdout",
     "output_type": "stream",
     "text": [
      "[24, 30, 36]\n"
     ]
    }
   ],
   "source": [
    "#Quiz Part 3\n",
    "numbers = [3,6,9,12,15,18]\n",
    "squares = [y for each in numbers if (y:= each*2)>20]\n",
    "# we are simply multiplying each number with 2 and result should be greater than 20.\n",
    "print(squares)"
   ]
  },
  {
   "cell_type": "code",
   "execution_count": 26,
   "id": "d1b29908",
   "metadata": {},
   "outputs": [
    {
     "name": "stdout",
     "output_type": "stream",
     "text": [
      "[4, 5, 6, 8, 10, 12, 12, 15, 18]\n"
     ]
    }
   ],
   "source": [
    "#Quiz Part 4\n",
    "list1 = [1,2,3]\n",
    "list2 = [4,5,6]\n",
    "#Mutiplying the first index of list with whole list2, then second index and then 3rd index.\n",
    "new_list = [x*y for x in list1 for y in list2 ]\n",
    "print(new_list)"
   ]
  },
  {
   "cell_type": "code",
   "execution_count": null,
   "id": "8d9d04be",
   "metadata": {},
   "outputs": [],
   "source": []
  }
 ],
 "metadata": {
  "kernelspec": {
   "display_name": "Python 3 (ipykernel)",
   "language": "python",
   "name": "python3"
  },
  "language_info": {
   "codemirror_mode": {
    "name": "ipython",
    "version": 3
   },
   "file_extension": ".py",
   "mimetype": "text/x-python",
   "name": "python",
   "nbconvert_exporter": "python",
   "pygments_lexer": "ipython3",
   "version": "3.10.6"
  }
 },
 "nbformat": 4,
 "nbformat_minor": 5
}
