{
 "cells": [
  {
   "cell_type": "code",
   "execution_count": 37,
   "id": "8c9ecf69",
   "metadata": {},
   "outputs": [
    {
     "name": "stdout",
     "output_type": "stream",
     "text": [
      "Even Numbers \t: [2, 4, 6, 8, 10]\n",
      "Odd Numbers \t: [1, 3, 5, 7, 9]\n",
      "[True, True, True, True, True]\n"
     ]
    }
   ],
   "source": [
    "#List Comprehension\n",
    "number_list = [1,2,3,4,5,6,7,8,9,10]\n",
    "#Using Walrus Operator(:=) Gives True/False Values\n",
    "even_numbers_find = [y for each in number_list if (y:= each%2 == 0)]\n",
    "#Using list comprehension gives the even values\n",
    "even_numbers_find = [each for each in number_list if (each%2 == 0)]\n",
    "print(\"Even Numbers \\t:\",even_numbers_find)\n",
    "#Similarly for odd Values \n",
    "odd_find = [each for each in number_list if (each%2 != 0)]\n",
    "print(\"Odd Numbers \\t:\", odd_find)\n",
    "\n",
    "#Using Walrus Operator\n",
    "odd_numbers_find = [x for i in number_list if (x:= i%2 == 0)]\n",
    "print(odd_numbers_find)"
   ]
  },
  {
   "cell_type": "code",
   "execution_count": 42,
   "id": "06d680aa",
   "metadata": {},
   "outputs": [
    {
     "name": "stdout",
     "output_type": "stream",
     "text": [
      "Adults after 5 Years \t: {'Alex': 25, 'Max': 15}\n",
      "People Less than 18 \t: {'Sam': 10, 'Ben': 5}\n"
     ]
    }
   ],
   "source": [
    "#Dictionary Comprehension\n",
    "\n",
    "#in people dictionary Key=Sam , Value= 10\n",
    "people_dictionary  = {'Sam': 10, 'Ben': 5,'Alex': 25,'Max': 15}\n",
    "#It will gives us the results of those who are gonna be adults(18+) after 5 years.\n",
    "new_dictionary_adults = {key:value  for key, value in people_dictionary.items()if ((value+5)>=18) }\n",
    "print(\"Adults after 5 Years \\t:\",new_dictionary_adults)\n",
    "\n",
    "#Similarly the list of teenagers will be (less than 18)\n",
    "dictionary_teens = {key:value for key, value in people_dictionary.items() if ((value+5)<18)}\n",
    "print(\"People Less than 18 \\t:\", dictionary_teens)"
   ]
  },
  {
   "cell_type": "code",
   "execution_count": 63,
   "id": "1b824cf4",
   "metadata": {},
   "outputs": [
    {
     "name": "stdout",
     "output_type": "stream",
     "text": [
      "2 2 2 2 4 4 6 6 78 6 8 8 \n",
      "After Removing Duplicates : {2, 4, 6, 8, 78}\n"
     ]
    }
   ],
   "source": [
    "#Set Comprehension\n",
    "num_list = [1,1,1,2,2,2,2,3,3,4,4,5,6,5,6,7,43,78,97,7,6,8,9,8]\n",
    "for i in num_list:\n",
    "    if i%2 == 0:\n",
    "        print(i, end = \" \")\n",
    "#There is Repetition of numbers \n",
    "#Now we used set comprehension to avoid repetition\n",
    "remove_duplicates = {each for each in num_list if(each%2 == 0)}\n",
    "print(\"\\nAfter Removing Duplicates :\",remove_duplicates)\n",
    "        \n"
   ]
  },
  {
   "cell_type": "code",
   "execution_count": null,
   "id": "4940463a",
   "metadata": {},
   "outputs": [],
   "source": []
  }
 ],
 "metadata": {
  "kernelspec": {
   "display_name": "Python 3 (ipykernel)",
   "language": "python",
   "name": "python3"
  },
  "language_info": {
   "codemirror_mode": {
    "name": "ipython",
    "version": 3
   },
   "file_extension": ".py",
   "mimetype": "text/x-python",
   "name": "python",
   "nbconvert_exporter": "python",
   "pygments_lexer": "ipython3",
   "version": "3.10.6"
  }
 },
 "nbformat": 4,
 "nbformat_minor": 5
}
