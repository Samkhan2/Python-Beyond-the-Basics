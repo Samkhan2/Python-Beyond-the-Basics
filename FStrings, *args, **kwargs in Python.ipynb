{
 "cells": [
  {
   "cell_type": "code",
   "execution_count": 6,
   "id": "063bf0aa",
   "metadata": {},
   "outputs": [
    {
     "name": "stdout",
     "output_type": "stream",
     "text": [
      "Hello my name is Saqib, i am learning Python\n"
     ]
    }
   ],
   "source": [
    "#F-String\n",
    "name = \"Saqib\"\n",
    "course = \"Python\"\n",
    "print(f\"Hello my name is {name}, i am learning {course}\")"
   ]
  },
  {
   "cell_type": "code",
   "execution_count": 14,
   "id": "fb3223c9",
   "metadata": {},
   "outputs": [
    {
     "data": {
      "text/plain": [
       "'Anusha cassum'"
      ]
     },
     "execution_count": 14,
     "metadata": {},
     "output_type": "execute_result"
    }
   ],
   "source": [
    "f\"{'Anusha cassum'}\"\n"
   ]
  },
  {
   "cell_type": "code",
   "execution_count": 4,
   "id": "89532479",
   "metadata": {},
   "outputs": [
    {
     "data": {
      "text/plain": [
       "'Anusha cassum'"
      ]
     },
     "execution_count": 4,
     "metadata": {},
     "output_type": "execute_result"
    }
   ],
   "source": [
    "f'{\"Anusha cassum\"}'"
   ]
  },
  {
   "cell_type": "code",
   "execution_count": 16,
   "id": "b7fd7282",
   "metadata": {},
   "outputs": [
    {
     "data": {
      "text/plain": [
       "'Anusha cassum'"
      ]
     },
     "execution_count": 16,
     "metadata": {},
     "output_type": "execute_result"
    }
   ],
   "source": [
    "f\"\"\"Anusha cassum\"\"\""
   ]
  },
  {
   "cell_type": "code",
   "execution_count": 18,
   "id": "c93eeaf8",
   "metadata": {},
   "outputs": [
    {
     "data": {
      "text/plain": [
       "''"
      ]
     },
     "execution_count": 18,
     "metadata": {},
     "output_type": "execute_result"
    }
   ],
   "source": [
    "f''#'Anusha cassum'''"
   ]
  },
  {
   "cell_type": "code",
   "execution_count": 1,
   "id": "a4a3d97e",
   "metadata": {},
   "outputs": [
    {
     "data": {
      "text/plain": [
       "['bat', 'candies', 'ball']"
      ]
     },
     "execution_count": 1,
     "metadata": {},
     "output_type": "execute_result"
    }
   ],
   "source": [
    "gift = ['bat', 'candies', 'ball']\n",
    "gift\n"
   ]
  },
  {
   "cell_type": "code",
   "execution_count": 9,
   "id": "2c12d45a",
   "metadata": {},
   "outputs": [
    {
     "data": {
      "text/plain": [
       "['ball', 'bell', 'candies', 'bat']"
      ]
     },
     "execution_count": 9,
     "metadata": {},
     "output_type": "execute_result"
    }
   ],
   "source": [
    "#Packing with * operator\n",
    "*present, = ['ball','bell','candies','bat']\n",
    "present"
   ]
  },
  {
   "cell_type": "code",
   "execution_count": 14,
   "id": "918dc593",
   "metadata": {},
   "outputs": [
    {
     "name": "stdout",
     "output_type": "stream",
     "text": [
      "ball\n",
      "bell\n",
      "candies\n",
      "bat\n"
     ]
    }
   ],
   "source": [
    "#Assigning Values to variables\n",
    "a,b,c,d = present\n",
    "print(a)\n",
    "print(b)\n",
    "print(c)\n",
    "print(d)"
   ]
  },
  {
   "cell_type": "code",
   "execution_count": 22,
   "id": "0df665f6",
   "metadata": {},
   "outputs": [
    {
     "name": "stdout",
     "output_type": "stream",
     "text": [
      "Result of 4 Arguments:  \t 24\n",
      "Result of Many Arguments: \t 6652800\n"
     ]
    }
   ],
   "source": [
    "#Using *args operator\n",
    "def multiply(*args):\n",
    "    result = 1\n",
    "    for i in args:\n",
    "        result = result*i\n",
    "    return result\n",
    "\n",
    "print(\"Result of 4 Arguments:  \\t\",multiply(1,2,3,4))\n",
    "print(\"Result of Many Arguments: \\t\",multiply(4,5,6,7,8,9,10,11))"
   ]
  },
  {
   "cell_type": "code",
   "execution_count": 31,
   "id": "de002c47",
   "metadata": {},
   "outputs": [],
   "source": [
    "### ASSIGNMENT 2 ###\n",
    "\"\"\"\n",
    "Modify the function below such that\n",
    "its able to take a variable number of arguments.\n",
    "Caution: Python wants us to always put keyword \n",
    "arguments after positional arguments!\n",
    "\"\"\"\n",
    "\n",
    "def cooking(*args):\n",
    "    \n",
    "    print(f\"## Lets cook {args[0]}!## \\n\")\n",
    "    print(\"Check to see that you have all the following utensils:\")\n",
    "    print(\"Argument 2:\",args[1])\n",
    "    print(f\"\\nMost importantly, check if the following ingrediants with the specified quantities are present\")\n",
    "    print(\"Argument 3:\",f\"{args[2]}\")\n",
    "    print(f\"Mix them all up and enjoy!\\n\")\n",
    "\n",
    "\n",
    "#cooking('Khaousay', 'Plate', 'Noodle')\n",
    "\n",
    "#cooking('Biryani','Masala','Rice')"
   ]
  },
  {
   "cell_type": "code",
   "execution_count": 39,
   "id": "71927194",
   "metadata": {},
   "outputs": [
    {
     "name": "stdout",
     "output_type": "stream",
     "text": [
      "Name is Saqib\n",
      "Gender is Male\n"
     ]
    }
   ],
   "source": [
    "#Using **kwargs\n",
    "def any_ftn(**kwargs):\n",
    "    for key, value in kwargs.items():\n",
    "        print(f\"{key} is {value}\")\n",
    "        \n",
    "#defining dictionary\n",
    "any_dictionary = {'Name':'Saqib',\"Gender\":\"Male\"}\n",
    "#We have to use double ** in passing arguments because of kwargs\n",
    "any_ftn(**any_dictionary)"
   ]
  },
  {
   "cell_type": "code",
   "execution_count": 41,
   "id": "dd943bd6",
   "metadata": {},
   "outputs": [
    {
     "name": "stdout",
     "output_type": "stream",
     "text": [
      "[30, 40]\n"
     ]
    }
   ],
   "source": [
    "x, y, *z = (10,20,30,40)\n",
    "print(z)"
   ]
  },
  {
   "cell_type": "code",
   "execution_count": 43,
   "id": "8d7fc9ca",
   "metadata": {},
   "outputs": [
    {
     "name": "stdout",
     "output_type": "stream",
     "text": [
      "['i', 's', ' ', 'i', 's', ' ', 'a', ' ', 'Q', 'u', 'i', 'z']\n"
     ]
    }
   ],
   "source": [
    "my_string = \"This is a Quiz\"\n",
    "a,b,*c = my_string\n",
    "print(c)"
   ]
  },
  {
   "cell_type": "code",
   "execution_count": null,
   "id": "44a40ae3",
   "metadata": {},
   "outputs": [],
   "source": []
  }
 ],
 "metadata": {
  "kernelspec": {
   "display_name": "Python 3 (ipykernel)",
   "language": "python",
   "name": "python3"
  },
  "language_info": {
   "codemirror_mode": {
    "name": "ipython",
    "version": 3
   },
   "file_extension": ".py",
   "mimetype": "text/x-python",
   "name": "python",
   "nbconvert_exporter": "python",
   "pygments_lexer": "ipython3",
   "version": "3.10.6"
  }
 },
 "nbformat": 4,
 "nbformat_minor": 5
}
